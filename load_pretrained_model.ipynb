{
 "cells": [
  {
   "cell_type": "code",
   "execution_count": 21,
   "metadata": {},
   "outputs": [],
   "source": [
    "# Imports\n",
    "import torch\n",
    "from segment_anything import SamAutomaticMaskGenerator, sam_model_registry\n",
    "import cv2\n",
    "import numpy as np\n",
    "import os\n",
    "from PIL import Image\n",
    "from torchvision import transforms\n"
   ]
  },
  {
   "cell_type": "code",
   "execution_count": 20,
   "metadata": {},
   "outputs": [
    {
     "name": "stdout",
     "output_type": "stream",
     "text": [
      "Using device: cpu\n",
      "Masks: []\n"
     ]
    }
   ],
   "source": [
    "# Check if running under SLURM by looking for SLURM environment variables\n",
    "if \"SLURM_JOB_ID\" in os.environ and torch.cuda.is_available():\n",
    "    device = \"cuda\"\n",
    "else:\n",
    "    device = \"cpu\"\n",
    "\n",
    "print(f\"Using device: {device}\")\n",
    "\n",
    "# Load the SAM model from the registry\n",
    "sam = sam_model_registry[model_type](checkpoint=checkpoint_path)\n",
    "sam.to(device)\n",
    "\n",
    "# Increase the limit for image size to prevent DecompressionBombError\n",
    "Image.MAX_IMAGE_PIXELS = None  # or set to a specific higher value\n",
    "\n",
    "# Load and preprocess the image\n",
    "image = Image.open(image_path).convert(\"RGB\")  # Open the image and convert to RGB\n",
    "\n",
    "# Get the desired height and width for resizing (adjust as needed)\n",
    "desired_size = (640, 480)  # Example size, modify as required\n",
    "\n",
    "transform = transforms.Compose([\n",
    "    transforms.Resize(desired_size),  # Resize to the desired size\n",
    "    transforms.ToTensor(),  # Convert to tensor\n",
    "    # Add normalization if needed (mean, std)\n",
    "])\n",
    "image_tensor = transform(image).unsqueeze(0).to(device)  # Add batch dimension and move to device\n",
    "\n",
    "# Set the image for prediction\n",
    "mask_generator = SamAutomaticMaskGenerator(sam)\n",
    "\n",
    "# Remove the batch dimension before generating masks\n",
    "masks = mask_generator.generate(image_tensor.squeeze(0))  # Squeeze to get rid of the batch dimension\n",
    "\n",
    "# Output results (optional)\n",
    "print(f\"Masks: {masks}\")\n",
    "\n",
    "\n",
    "\n",
    "\n",
    "\n",
    "\n"
   ]
  }
 ],
 "metadata": {
  "kernelspec": {
   "display_name": "rctest",
   "language": "python",
   "name": "python3"
  },
  "language_info": {
   "codemirror_mode": {
    "name": "ipython",
    "version": 3
   },
   "file_extension": ".py",
   "mimetype": "text/x-python",
   "name": "python",
   "nbconvert_exporter": "python",
   "pygments_lexer": "ipython3",
   "version": "undefined.undefined.undefined"
  }
 },
 "nbformat": 4,
 "nbformat_minor": 2
}
